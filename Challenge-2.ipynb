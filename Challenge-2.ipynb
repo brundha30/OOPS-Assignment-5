{
 "cells": [
  {
   "cell_type": "markdown",
   "metadata": {},
   "source": [
    "# Challenge 2: Implement a Calculator Class"
   ]
  },
  {
   "cell_type": "code",
   "execution_count": 2,
   "metadata": {},
   "outputs": [
    {
     "name": "stdout",
     "output_type": "stream",
     "text": [
      "104\n",
      "84\n",
      "940\n",
      "9.4\n"
     ]
    }
   ],
   "source": [
    "class Calculator:\n",
    "\n",
    "    def __init__(self,num1,num2):\n",
    "        self.num1 = num1\n",
    "        self.num2 = num2\n",
    "        \n",
    "    def add(self):\n",
    "        return self.num1 + self.num2\n",
    "    \n",
    "    def subtract(self):\n",
    "        return self.num2 - self.num1\n",
    "    \n",
    "    def multiply(self):\n",
    "        return self.num1 * self.num2\n",
    "    \n",
    "    def divide(self):\n",
    "        return self.num2 / self.num1\n",
    "\n",
    "obj = Calculator(10, 94)\n",
    "print(obj.add())\n",
    "print(obj.subtract())\n",
    "print(obj.multiply())\n",
    "print(obj.divide())"
   ]
  }
 ],
 "metadata": {
  "kernelspec": {
   "display_name": "Python 3",
   "language": "python",
   "name": "python3"
  },
  "language_info": {
   "codemirror_mode": {
    "name": "ipython",
    "version": 3
   },
   "file_extension": ".py",
   "mimetype": "text/x-python",
   "name": "python",
   "nbconvert_exporter": "python",
   "pygments_lexer": "ipython3",
   "version": "3.7.6"
  }
 },
 "nbformat": 4,
 "nbformat_minor": 4
}

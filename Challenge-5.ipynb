{
 "cells": [
  {
   "cell_type": "markdown",
   "metadata": {},
   "source": [
    "# Challenge 5: Handling a Bank Account"
   ]
  },
  {
   "cell_type": "markdown",
   "metadata": {},
   "source": [
    "# After Depositing Amount"
   ]
  },
  {
   "cell_type": "code",
   "execution_count": 26,
   "metadata": {},
   "outputs": [
    {
     "name": "stdout",
     "output_type": "stream",
     "text": [
      "Available balance: 2500\n"
     ]
    }
   ],
   "source": [
    "class Account:\n",
    "    \n",
    "    def __init__(self, title=None, balance=0):\n",
    "        \n",
    "        self.title = title\n",
    "        self.balance = balance\n",
    "        \n",
    "    def withdrawal(self, amount):\n",
    "        \n",
    "        if amount > self.balance:\n",
    "            print(\"Insufficient balance\")\n",
    "        else:\n",
    "            self.amount = self.balance - amount\n",
    "            \n",
    "    def deposit(self, amount):\n",
    "        \n",
    "        self.amount = self.balance + amount\n",
    "        \n",
    "    def getBalance(self):\n",
    "        \n",
    "        print(\"Available balance:\",self.amount)\n",
    "\n",
    "class SavingsAccount(Account):\n",
    "    \n",
    "    def __init__(self, title=None, balance=0, interestRate=0):\n",
    "        \n",
    "            super().__init__(title, balance)\n",
    "            self.interestRate = interestRate\n",
    "    \n",
    "    def interestAmount(self):\n",
    "        \n",
    "        return interestRate * balance // 100\n",
    "\n",
    "demo1 = SavingsAccount(\"Ashish\", 2000, 5)\n",
    "demo1.balance = 2000\n",
    "demo1.deposit(500)\n",
    "demo1.getBalance()"
   ]
  },
  {
   "cell_type": "markdown",
   "metadata": {},
   "source": [
    "# After Withdrawal Amount"
   ]
  },
  {
   "cell_type": "code",
   "execution_count": 27,
   "metadata": {},
   "outputs": [
    {
     "name": "stdout",
     "output_type": "stream",
     "text": [
      "Available balance: 1500\n"
     ]
    }
   ],
   "source": [
    "class Account:\n",
    "    \n",
    "    def __init__(self, title=None, balance=0):\n",
    "        \n",
    "        self.title = title\n",
    "        self.balance = balance\n",
    "        \n",
    "    def withdrawal(self, amount):\n",
    "        \n",
    "        if amount > self.balance:\n",
    "            print(\"Insufficient balance\")\n",
    "        else:\n",
    "            self.amount = self.balance - amount\n",
    "            \n",
    "        \n",
    "    def deposit(self, amount):\n",
    "        \n",
    "        self.amount = self.balance + amount\n",
    "        \n",
    "    def getBalance(self):\n",
    "        \n",
    "        print (\"Available balance:\",self.amount)\n",
    "\n",
    "class SavingsAccount(Account):\n",
    "    \n",
    "    def __init__(self, title=None, balance=0, interestRate=0):\n",
    "        \n",
    "            super().__init__(title, balance)\n",
    "            self.interestRate = interestRate\n",
    "    \n",
    "    def interestAmount(self):\n",
    "        \n",
    "        return interestRate * balance // 100\n",
    "\n",
    "demo1 = SavingsAccount(\"Ashish\", 2000, 5)\n",
    "demo1.balance = 2000\n",
    "demo1.withdrawal(500)\n",
    "demo1.getBalance()"
   ]
  },
  {
   "cell_type": "markdown",
   "metadata": {},
   "source": [
    "# Calculation of Interest Amount"
   ]
  },
  {
   "cell_type": "code",
   "execution_count": 25,
   "metadata": {},
   "outputs": [
    {
     "data": {
      "text/plain": [
       "100"
      ]
     },
     "execution_count": 25,
     "metadata": {},
     "output_type": "execute_result"
    }
   ],
   "source": [
    "class Account:\n",
    "    \n",
    "    def __init__(self, title=None, balance=0):\n",
    "        \n",
    "        self.title = title\n",
    "        self.balance = balance\n",
    "        \n",
    "    def withdrawal(self, amount):\n",
    "        \n",
    "        if amount > self.balance:\n",
    "            print(\"Insufficient balance\")\n",
    "        else:\n",
    "            self.amount = self.balance - amount\n",
    "            \n",
    "        \n",
    "    def deposit(self, amount):\n",
    "        \n",
    "        self.amount = self.balance + amount\n",
    "        \n",
    "    def getBalance(self):\n",
    "        \n",
    "        print (\"Available balance:\",self.amount)\n",
    "\n",
    "class SavingsAccount(Account):\n",
    "    \n",
    "    def __init__(self, title=None, balance=0, interestRate=0):\n",
    "        \n",
    "        super().__init__(title, balance)\n",
    "        self.interestRate = interestRate\n",
    "    \n",
    "    def interestAmount(self):\n",
    "        \n",
    "        return interestRate * balance // 100\n",
    "\n",
    "demo1 = SavingsAccount(\"Ashish\", 2000, 5)\n",
    "demo1.balance = 2000\n",
    "demo1.interestRate = 5\n",
    "demo1.interestAmount()"
   ]
  }
 ],
 "metadata": {
  "kernelspec": {
   "display_name": "Python 3",
   "language": "python",
   "name": "python3"
  },
  "language_info": {
   "codemirror_mode": {
    "name": "ipython",
    "version": 3
   },
   "file_extension": ".py",
   "mimetype": "text/x-python",
   "name": "python",
   "nbconvert_exporter": "python",
   "pygments_lexer": "ipython3",
   "version": "3.7.6"
  }
 },
 "nbformat": 4,
 "nbformat_minor": 4
}

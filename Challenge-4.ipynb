{
 "cells": [
  {
   "cell_type": "markdown",
   "metadata": {},
   "source": [
    "# Challenge 4: Implement a Banking Account"
   ]
  },
  {
   "cell_type": "code",
   "execution_count": 1,
   "metadata": {},
   "outputs": [
    {
     "name": "stdout",
     "output_type": "stream",
     "text": [
      "Title :  Ashish\n",
      "Balance :  5000\n",
      "Interest rate :  5\n"
     ]
    }
   ],
   "source": [
    "class Account():\n",
    "    \n",
    "    def __init__(self,title=None,balance=0):\n",
    "        \n",
    "        self.title = title\n",
    "        self.balance = balance\n",
    "        print(\"Title : \",self.title)\n",
    "        print(\"Balance : \",self.balance)\n",
    "        \n",
    "class SavingsAccount(Account):\n",
    "    \n",
    "    def __init__(self,title=None,balance=0,interestrate = 0):\n",
    "        \n",
    "        super().__init__(title,balance)\n",
    "        self.interestrate = interestrate\n",
    "        print(\"Interest rate : \",self.interestrate)\n",
    "        \n",
    "\n",
    "o=SavingsAccount(\"Ashish\",5000,5)"
   ]
  },
  {
   "cell_type": "code",
   "execution_count": null,
   "metadata": {},
   "outputs": [],
   "source": []
  }
 ],
 "metadata": {
  "kernelspec": {
   "display_name": "Python 3",
   "language": "python",
   "name": "python3"
  },
  "language_info": {
   "codemirror_mode": {
    "name": "ipython",
    "version": 3
   },
   "file_extension": ".py",
   "mimetype": "text/x-python",
   "name": "python",
   "nbconvert_exporter": "python",
   "pygments_lexer": "ipython3",
   "version": "3.7.6"
  }
 },
 "nbformat": 4,
 "nbformat_minor": 4
}
